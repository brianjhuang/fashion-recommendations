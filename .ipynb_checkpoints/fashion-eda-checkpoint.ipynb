{
 "cells": [
  {
   "cell_type": "markdown",
   "metadata": {
    "tags": []
   },
   "source": [
    "## Fashion Data EDA"
   ]
  },
  {
   "cell_type": "code",
   "execution_count": 1,
   "metadata": {},
   "outputs": [],
   "source": [
    "import pandas as pd\n",
    "import numpy as np\n",
    "import gzip\n",
    "import math\n",
    "import matplotlib.pyplot as plt\n",
    "import seaborn as sns\n",
    "import string\n",
    "from collections import defaultdict\n",
    "import regex as re\n",
    "from dateutil.parser import parse"
   ]
  },
  {
   "cell_type": "code",
   "execution_count": 2,
   "metadata": {},
   "outputs": [],
   "source": [
    "runway_data = 'renttherunway_final_data.json.gz'\n",
    "modcloth_data = 'modcloth_final_data.json.gz'"
   ]
  },
  {
   "cell_type": "code",
   "execution_count": 3,
   "metadata": {},
   "outputs": [],
   "source": [
    "def parseData(fname):\n",
    "    '''\n",
    "    Parse in the data from the file path/link\n",
    "    '''\n",
    "    total = 0\n",
    "    for l in gzip.open(fname):\n",
    "        try:\n",
    "            yield eval(l)\n",
    "        except NameError:\n",
    "            total += 1\n",
    "            print(f\"Scrapping Data, Null Entry: {total}\")"
   ]
  },
  {
   "cell_type": "code",
   "execution_count": 4,
   "metadata": {},
   "outputs": [
    {
     "name": "stdout",
     "output_type": "stream",
     "text": [
      "Scrapping Data, Null Entry: 1\n",
      "Scrapping Data, Null Entry: 2\n",
      "Scrapping Data, Null Entry: 3\n",
      "Scrapping Data, Null Entry: 4\n",
      "Scrapping Data, Null Entry: 5\n",
      "Scrapping Data, Null Entry: 6\n",
      "Scrapping Data, Null Entry: 7\n",
      "Scrapping Data, Null Entry: 8\n",
      "Scrapping Data, Null Entry: 9\n",
      "Scrapping Data, Null Entry: 10\n",
      "Scrapping Data, Null Entry: 11\n",
      "Scrapping Data, Null Entry: 12\n",
      "Scrapping Data, Null Entry: 13\n",
      "Scrapping Data, Null Entry: 14\n",
      "Scrapping Data, Null Entry: 15\n",
      "Scrapping Data, Null Entry: 16\n",
      "Scrapping Data, Null Entry: 17\n",
      "Scrapping Data, Null Entry: 18\n",
      "Scrapping Data, Null Entry: 19\n",
      "Scrapping Data, Null Entry: 20\n",
      "Scrapping Data, Null Entry: 21\n",
      "Scrapping Data, Null Entry: 22\n",
      "Scrapping Data, Null Entry: 23\n",
      "Scrapping Data, Null Entry: 24\n",
      "Scrapping Data, Null Entry: 25\n",
      "Scrapping Data, Null Entry: 26\n",
      "Scrapping Data, Null Entry: 27\n",
      "Scrapping Data, Null Entry: 28\n",
      "Scrapping Data, Null Entry: 29\n",
      "Scrapping Data, Null Entry: 30\n",
      "Scrapping Data, Null Entry: 31\n",
      "Scrapping Data, Null Entry: 32\n",
      "Scrapping Data, Null Entry: 33\n",
      "Scrapping Data, Null Entry: 34\n",
      "Scrapping Data, Null Entry: 35\n",
      "Scrapping Data, Null Entry: 36\n",
      "Scrapping Data, Null Entry: 37\n",
      "Scrapping Data, Null Entry: 38\n",
      "Scrapping Data, Null Entry: 39\n",
      "Scrapping Data, Null Entry: 40\n",
      "Scrapping Data, Null Entry: 41\n",
      "Scrapping Data, Null Entry: 42\n",
      "Scrapping Data, Null Entry: 43\n",
      "Scrapping Data, Null Entry: 44\n",
      "Scrapping Data, Null Entry: 45\n",
      "Scrapping Data, Null Entry: 46\n",
      "Scrapping Data, Null Entry: 47\n",
      "Scrapping Data, Null Entry: 48\n",
      "Scrapping Data, Null Entry: 49\n",
      "Scrapping Data, Null Entry: 50\n",
      "Scrapping Data, Null Entry: 51\n",
      "Scrapping Data, Null Entry: 52\n",
      "Scrapping Data, Null Entry: 53\n",
      "Scrapping Data, Null Entry: 54\n",
      "Scrapping Data, Null Entry: 55\n",
      "Scrapping Data, Null Entry: 56\n",
      "Scrapping Data, Null Entry: 57\n",
      "Scrapping Data, Null Entry: 58\n",
      "Scrapping Data, Null Entry: 59\n",
      "Scrapping Data, Null Entry: 60\n",
      "Scrapping Data, Null Entry: 61\n",
      "Scrapping Data, Null Entry: 62\n",
      "Scrapping Data, Null Entry: 63\n",
      "Scrapping Data, Null Entry: 64\n",
      "Scrapping Data, Null Entry: 65\n",
      "Scrapping Data, Null Entry: 66\n",
      "Scrapping Data, Null Entry: 67\n",
      "Scrapping Data, Null Entry: 68\n",
      "Scrapping Data, Null Entry: 69\n",
      "Scrapping Data, Null Entry: 70\n",
      "Scrapping Data, Null Entry: 71\n",
      "Scrapping Data, Null Entry: 72\n",
      "Scrapping Data, Null Entry: 73\n",
      "Scrapping Data, Null Entry: 74\n",
      "Scrapping Data, Null Entry: 75\n",
      "Scrapping Data, Null Entry: 76\n",
      "Scrapping Data, Null Entry: 77\n",
      "Scrapping Data, Null Entry: 78\n",
      "Scrapping Data, Null Entry: 79\n",
      "Scrapping Data, Null Entry: 80\n",
      "Scrapping Data, Null Entry: 81\n",
      "Scrapping Data, Null Entry: 82\n"
     ]
    }
   ],
   "source": [
    "runway = list(parseData(runway_data))\n",
    "modcloth = list(parseData(modcloth_data)) #could we use modcloth as a test set?"
   ]
  },
  {
   "cell_type": "markdown",
   "metadata": {},
   "source": [
    "### Cleaning"
   ]
  },
  {
   "cell_type": "code",
   "execution_count": 5,
   "metadata": {},
   "outputs": [],
   "source": [
    "def bustSplitter(s):\n",
    "    '''\n",
    "    Split our bust measurement into measurement and cup size.\n",
    "    '''\n",
    "    bust = s[:2]\n",
    "    cup = s[2:]\n",
    "    return int(bust), cup"
   ]
  },
  {
   "cell_type": "code",
   "execution_count": 6,
   "metadata": {
    "tags": []
   },
   "outputs": [
    {
     "data": {
      "text/plain": [
       "46081"
      ]
     },
     "execution_count": 6,
     "metadata": {},
     "output_type": "execute_result"
    }
   ],
   "source": [
    "#how many entries are missing bust size\n",
    "unusable_data = 0\n",
    "columns = set(list(runway[0].keys()))\n",
    "for review in runway:\n",
    "    if len(set(list(review.keys())).intersection(columns)) < len(columns):\n",
    "        unusable_data += 1\n",
    "unusable_data"
   ]
  },
  {
   "cell_type": "code",
   "execution_count": 7,
   "metadata": {},
   "outputs": [],
   "source": [
    "#split bust into measurement and cup size\n",
    "data = []\n",
    "for review in runway:\n",
    "    if len(set(list(review.keys())).intersection(columns)) < len(columns): \n",
    "        #if they're missing a column\n",
    "        continue\n",
    "    review['bust'], review['cup'] = bustSplitter(review['bust size']) \n",
    "    data.append(review)"
   ]
  },
  {
   "cell_type": "code",
   "execution_count": 8,
   "metadata": {},
   "outputs": [
    {
     "data": {
      "text/plain": [
       "(146381, 192462)"
      ]
     },
     "execution_count": 8,
     "metadata": {},
     "output_type": "execute_result"
    }
   ],
   "source": [
    "len(data), len(runway) #dropped around 2000 entries"
   ]
  },
  {
   "cell_type": "code",
   "execution_count": 9,
   "metadata": {},
   "outputs": [
    {
     "data": {
      "text/plain": [
       "{'fit': 'fit',\n",
       " 'user_id': '420272',\n",
       " 'bust size': '34d',\n",
       " 'item_id': '2260466',\n",
       " 'weight': '137lbs',\n",
       " 'rating': '10',\n",
       " 'rented for': 'vacation',\n",
       " 'review_text': \"An adorable romper! Belt and zipper were a little hard to navigate in a full day of wear/bathroom use, but that's to be expected. Wish it had pockets, but other than that-- absolutely perfect! I got a million compliments.\",\n",
       " 'body type': 'hourglass',\n",
       " 'review_summary': 'So many compliments!',\n",
       " 'category': 'romper',\n",
       " 'height': '5\\' 8\"',\n",
       " 'size': 14,\n",
       " 'age': '28',\n",
       " 'review_date': 'April 20, 2016',\n",
       " 'bust': 34,\n",
       " 'cup': 'd'}"
      ]
     },
     "execution_count": 9,
     "metadata": {},
     "output_type": "execute_result"
    }
   ],
   "source": [
    "data[0]"
   ]
  },
  {
   "cell_type": "code",
   "execution_count": 10,
   "metadata": {},
   "outputs": [],
   "source": [
    "for d in data:\n",
    "    d['weight'] = int(re.sub(\"[^0-9]\", \"\", d['weight']))\n",
    "    d['rating'] = int(d['rating'])\n",
    "    d['size'] = int(d['size'])\n",
    "    d['age'] = int(d['age'])\n",
    "    d['review_date'] = parse(d['review_date'])\n",
    "    heights = [int(num.strip('\\'').strip('\\\"')) for num in d['height'].split()]\n",
    "    d['height'] = (heights[0] * 12) + heights[1]"
   ]
  },
  {
   "cell_type": "code",
   "execution_count": 11,
   "metadata": {},
   "outputs": [
    {
     "data": {
      "text/plain": [
       "{'fit': 'fit',\n",
       " 'user_id': '420272',\n",
       " 'bust size': '34d',\n",
       " 'item_id': '2260466',\n",
       " 'weight': 137,\n",
       " 'rating': 10,\n",
       " 'rented for': 'vacation',\n",
       " 'review_text': \"An adorable romper! Belt and zipper were a little hard to navigate in a full day of wear/bathroom use, but that's to be expected. Wish it had pockets, but other than that-- absolutely perfect! I got a million compliments.\",\n",
       " 'body type': 'hourglass',\n",
       " 'review_summary': 'So many compliments!',\n",
       " 'category': 'romper',\n",
       " 'height': 68,\n",
       " 'size': 14,\n",
       " 'age': 28,\n",
       " 'review_date': datetime.datetime(2016, 4, 20, 0, 0),\n",
       " 'bust': 34,\n",
       " 'cup': 'd'}"
      ]
     },
     "execution_count": 11,
     "metadata": {},
     "output_type": "execute_result"
    }
   ],
   "source": [
    "data[0]"
   ]
  },
  {
   "cell_type": "markdown",
   "metadata": {},
   "source": [
    "### EDA"
   ]
  },
  {
   "cell_type": "code",
   "execution_count": 12,
   "metadata": {},
   "outputs": [],
   "source": [
    "fashion_df = pd.DataFrame(data)"
   ]
  },
  {
   "cell_type": "code",
   "execution_count": 13,
   "metadata": {},
   "outputs": [
    {
     "data": {
      "text/html": [
       "<div>\n",
       "<style scoped>\n",
       "    .dataframe tbody tr th:only-of-type {\n",
       "        vertical-align: middle;\n",
       "    }\n",
       "\n",
       "    .dataframe tbody tr th {\n",
       "        vertical-align: top;\n",
       "    }\n",
       "\n",
       "    .dataframe thead th {\n",
       "        text-align: right;\n",
       "    }\n",
       "</style>\n",
       "<table border=\"1\" class=\"dataframe\">\n",
       "  <thead>\n",
       "    <tr style=\"text-align: right;\">\n",
       "      <th></th>\n",
       "      <th>weight</th>\n",
       "      <th>height</th>\n",
       "      <th>rating</th>\n",
       "      <th>bust</th>\n",
       "      <th>size</th>\n",
       "      <th>age</th>\n",
       "    </tr>\n",
       "  </thead>\n",
       "  <tbody>\n",
       "    <tr>\n",
       "      <th>count</th>\n",
       "      <td>146381.000000</td>\n",
       "      <td>146381.000000</td>\n",
       "      <td>146381.000000</td>\n",
       "      <td>146381.000000</td>\n",
       "      <td>146381.000000</td>\n",
       "      <td>146381.000000</td>\n",
       "    </tr>\n",
       "    <tr>\n",
       "      <th>mean</th>\n",
       "      <td>137.209870</td>\n",
       "      <td>65.263053</td>\n",
       "      <td>9.081985</td>\n",
       "      <td>34.110738</td>\n",
       "      <td>11.437919</td>\n",
       "      <td>34.089800</td>\n",
       "    </tr>\n",
       "    <tr>\n",
       "      <th>std</th>\n",
       "      <td>21.540182</td>\n",
       "      <td>2.659230</td>\n",
       "      <td>1.437853</td>\n",
       "      <td>1.701981</td>\n",
       "      <td>7.826784</td>\n",
       "      <td>8.113217</td>\n",
       "    </tr>\n",
       "    <tr>\n",
       "      <th>min</th>\n",
       "      <td>50.000000</td>\n",
       "      <td>54.000000</td>\n",
       "      <td>2.000000</td>\n",
       "      <td>28.000000</td>\n",
       "      <td>0.000000</td>\n",
       "      <td>0.000000</td>\n",
       "    </tr>\n",
       "    <tr>\n",
       "      <th>25%</th>\n",
       "      <td>123.000000</td>\n",
       "      <td>63.000000</td>\n",
       "      <td>8.000000</td>\n",
       "      <td>32.000000</td>\n",
       "      <td>4.000000</td>\n",
       "      <td>29.000000</td>\n",
       "    </tr>\n",
       "    <tr>\n",
       "      <th>50%</th>\n",
       "      <td>135.000000</td>\n",
       "      <td>65.000000</td>\n",
       "      <td>10.000000</td>\n",
       "      <td>34.000000</td>\n",
       "      <td>9.000000</td>\n",
       "      <td>32.000000</td>\n",
       "    </tr>\n",
       "    <tr>\n",
       "      <th>75%</th>\n",
       "      <td>148.000000</td>\n",
       "      <td>67.000000</td>\n",
       "      <td>10.000000</td>\n",
       "      <td>36.000000</td>\n",
       "      <td>16.000000</td>\n",
       "      <td>37.000000</td>\n",
       "    </tr>\n",
       "    <tr>\n",
       "      <th>max</th>\n",
       "      <td>300.000000</td>\n",
       "      <td>78.000000</td>\n",
       "      <td>10.000000</td>\n",
       "      <td>48.000000</td>\n",
       "      <td>58.000000</td>\n",
       "      <td>117.000000</td>\n",
       "    </tr>\n",
       "  </tbody>\n",
       "</table>\n",
       "</div>"
      ],
      "text/plain": [
       "              weight         height         rating           bust  \\\n",
       "count  146381.000000  146381.000000  146381.000000  146381.000000   \n",
       "mean      137.209870      65.263053       9.081985      34.110738   \n",
       "std        21.540182       2.659230       1.437853       1.701981   \n",
       "min        50.000000      54.000000       2.000000      28.000000   \n",
       "25%       123.000000      63.000000       8.000000      32.000000   \n",
       "50%       135.000000      65.000000      10.000000      34.000000   \n",
       "75%       148.000000      67.000000      10.000000      36.000000   \n",
       "max       300.000000      78.000000      10.000000      48.000000   \n",
       "\n",
       "                size            age  \n",
       "count  146381.000000  146381.000000  \n",
       "mean       11.437919      34.089800  \n",
       "std         7.826784       8.113217  \n",
       "min         0.000000       0.000000  \n",
       "25%         4.000000      29.000000  \n",
       "50%         9.000000      32.000000  \n",
       "75%        16.000000      37.000000  \n",
       "max        58.000000     117.000000  "
      ]
     },
     "execution_count": 13,
     "metadata": {},
     "output_type": "execute_result"
    }
   ],
   "source": [
    "fashion_df[['weight', 'height', 'rating', 'bust', 'size', 'age']].describe()\n",
    "#looks like rating is 5 stars, but prof multlied it by two to include half star ratings\n",
    "#why do we have ages of 0? sizes of 0? are there people who weigh 50lbs?"
   ]
  },
  {
   "cell_type": "code",
   "execution_count": 14,
   "metadata": {},
   "outputs": [
    {
     "data": {
      "text/plain": [
       "<AxesSubplot:xlabel='weight', ylabel='Density'>"
      ]
     },
     "execution_count": 14,
     "metadata": {},
     "output_type": "execute_result"
    },
    {
     "data": {
      "image/png": "[encoded data removed]",
      "text/plain": [
       "<Figure size 1152x288 with 2 Axes>"
      ]
     },
     "metadata": {
      "needs_background": "light"
     },
     "output_type": "display_data"
    }
   ],
   "source": [
    "fig, axes = plt.subplots(ncols = 2, figsize = (16, 4))\n",
    "sns.countplot(data = fashion_df, x = 'height', ax = axes[0])\n",
    "sns.kdeplot(data = fashion_df, x = 'weight', ax = axes[1])"
   ]
  },
  {
   "cell_type": "code",
   "execution_count": 15,
   "metadata": {},
   "outputs": [
    {
     "data": {
      "text/plain": [
       "<AxesSubplot:xlabel='rating', ylabel='count'>"
      ]
     },
     "execution_count": 15,
     "metadata": {},
     "output_type": "execute_result"
    },
    {
     "data": {
      "image/png": "[encoded data removed]",
      "text/plain": [
       "<Figure size 1152x288 with 2 Axes>"
      ]
     },
     "metadata": {
      "needs_background": "light"
     },
     "output_type": "display_data"
    }
   ],
   "source": [
    "fig, axes = plt.subplots(ncols = 2, figsize = (16, 4))\n",
    "sns.kdeplot(data = fashion_df, x = 'age', ax = axes[0])\n",
    "sns.countplot(data = fashion_df, x = 'rating', ax = axes[1])"
   ]
  },
  {
   "cell_type": "code",
   "execution_count": 16,
   "metadata": {},
   "outputs": [
    {
     "data": {
      "text/plain": [
       "<AxesSubplot:xlabel='fit', ylabel='count'>"
      ]
     },
     "execution_count": 16,
     "metadata": {},
     "output_type": "execute_result"
    },
    {
     "data": {
      "image/png": "[encoded data removed]",
      "text/plain": [
       "<Figure size 1152x288 with 2 Axes>"
      ]
     },
     "metadata": {
      "needs_background": "light"
     },
     "output_type": "display_data"
    }
   ],
   "source": [
    "fig, axes = plt.subplots(ncols = 2, figsize = (16, 4))\n",
    "sns.kdeplot(data = fashion_df, x = 'size', ax = axes[0])\n",
    "sns.countplot(data = fashion_df, x = 'fit', ax = axes[1])"
   ]
  },
  {
   "cell_type": "code",
   "execution_count": 17,
   "metadata": {},
   "outputs": [
    {
     "data": {
      "text/plain": [
       "<AxesSubplot:xlabel='body type', ylabel='count'>"
      ]
     },
     "execution_count": 17,
     "metadata": {},
     "output_type": "execute_result"
    },
    {
     "data": {
      "image/png": "[encoded data removed]",
      "text/plain": [
       "<Figure size 1152x576 with 1 Axes>"
      ]
     },
     "metadata": {
      "needs_background": "light"
     },
     "output_type": "display_data"
    }
   ],
   "source": [
    "fig, axes = plt.subplots(ncols = 1, figsize = (16, 8))\n",
    "sns.countplot(data = fashion_df, x = 'body type', ax = axes)"
   ]
  },
  {
   "cell_type": "code",
   "execution_count": 18,
   "metadata": {},
   "outputs": [
    {
     "data": {
      "text/plain": [
       "<AxesSubplot:xlabel='bust', ylabel='count'>"
      ]
     },
     "execution_count": 18,
     "metadata": {},
     "output_type": "execute_result"
    },
    {
     "data": {
      "image/png": "[encoded data removed]",
      "text/plain": [
       "<Figure size 1152x288 with 2 Axes>"
      ]
     },
     "metadata": {
      "needs_background": "light"
     },
     "output_type": "display_data"
    }
   ],
   "source": [
    "fig, axes = plt.subplots(ncols = 2, figsize = (16, 4))\n",
    "sns.countplot(data = fashion_df, x = 'cup', ax = axes[0])\n",
    "sns.countplot(data = fashion_df, x = 'bust', ax = axes[1])"
   ]
  },
  {
   "cell_type": "code",
   "execution_count": 19,
   "metadata": {},
   "outputs": [
    {
     "data": {
      "text/html": [
       "<div>\n",
       "<style scoped>\n",
       "    .dataframe tbody tr th:only-of-type {\n",
       "        vertical-align: middle;\n",
       "    }\n",
       "\n",
       "    .dataframe tbody tr th {\n",
       "        vertical-align: top;\n",
       "    }\n",
       "\n",
       "    .dataframe thead th {\n",
       "        text-align: right;\n",
       "    }\n",
       "</style>\n",
       "<table border=\"1\" class=\"dataframe\">\n",
       "  <thead>\n",
       "    <tr style=\"text-align: right;\">\n",
       "      <th></th>\n",
       "      <th>fit</th>\n",
       "      <th>user_id</th>\n",
       "      <th>bust size</th>\n",
       "      <th>item_id</th>\n",
       "      <th>weight</th>\n",
       "      <th>rating</th>\n",
       "      <th>rented for</th>\n",
       "      <th>review_text</th>\n",
       "      <th>body type</th>\n",
       "      <th>review_summary</th>\n",
       "      <th>category</th>\n",
       "      <th>height</th>\n",
       "      <th>size</th>\n",
       "      <th>age</th>\n",
       "      <th>review_date</th>\n",
       "      <th>bust</th>\n",
       "      <th>cup</th>\n",
       "    </tr>\n",
       "  </thead>\n",
       "  <tbody>\n",
       "    <tr>\n",
       "      <th>0</th>\n",
       "      <td>fit</td>\n",
       "      <td>420272</td>\n",
       "      <td>34d</td>\n",
       "      <td>2260466</td>\n",
       "      <td>137</td>\n",
       "      <td>10</td>\n",
       "      <td>vacation</td>\n",
       "      <td>An adorable romper! Belt and zipper were a lit...</td>\n",
       "      <td>hourglass</td>\n",
       "      <td>So many compliments!</td>\n",
       "      <td>romper</td>\n",
       "      <td>68</td>\n",
       "      <td>14</td>\n",
       "      <td>28</td>\n",
       "      <td>2016-04-20</td>\n",
       "      <td>34</td>\n",
       "      <td>d</td>\n",
       "    </tr>\n",
       "    <tr>\n",
       "      <th>1</th>\n",
       "      <td>fit</td>\n",
       "      <td>273551</td>\n",
       "      <td>34b</td>\n",
       "      <td>153475</td>\n",
       "      <td>132</td>\n",
       "      <td>10</td>\n",
       "      <td>other</td>\n",
       "      <td>I rented this dress for a photo shoot. The the...</td>\n",
       "      <td>straight &amp; narrow</td>\n",
       "      <td>I felt so glamourous!!!</td>\n",
       "      <td>gown</td>\n",
       "      <td>66</td>\n",
       "      <td>12</td>\n",
       "      <td>36</td>\n",
       "      <td>2013-06-18</td>\n",
       "      <td>34</td>\n",
       "      <td>b</td>\n",
       "    </tr>\n",
       "    <tr>\n",
       "      <th>2</th>\n",
       "      <td>fit</td>\n",
       "      <td>909926</td>\n",
       "      <td>34c</td>\n",
       "      <td>126335</td>\n",
       "      <td>135</td>\n",
       "      <td>8</td>\n",
       "      <td>formal affair</td>\n",
       "      <td>I rented this for my company's black tie award...</td>\n",
       "      <td>pear</td>\n",
       "      <td>Dress arrived on time and in perfect condition.</td>\n",
       "      <td>dress</td>\n",
       "      <td>65</td>\n",
       "      <td>8</td>\n",
       "      <td>34</td>\n",
       "      <td>2014-02-12</td>\n",
       "      <td>34</td>\n",
       "      <td>c</td>\n",
       "    </tr>\n",
       "    <tr>\n",
       "      <th>3</th>\n",
       "      <td>fit</td>\n",
       "      <td>151944</td>\n",
       "      <td>34b</td>\n",
       "      <td>616682</td>\n",
       "      <td>145</td>\n",
       "      <td>10</td>\n",
       "      <td>wedding</td>\n",
       "      <td>I have always been petite in my upper body and...</td>\n",
       "      <td>athletic</td>\n",
       "      <td>Was in love with this dress !!!</td>\n",
       "      <td>gown</td>\n",
       "      <td>69</td>\n",
       "      <td>12</td>\n",
       "      <td>27</td>\n",
       "      <td>2016-09-26</td>\n",
       "      <td>34</td>\n",
       "      <td>b</td>\n",
       "    </tr>\n",
       "    <tr>\n",
       "      <th>4</th>\n",
       "      <td>fit</td>\n",
       "      <td>734848</td>\n",
       "      <td>32b</td>\n",
       "      <td>364092</td>\n",
       "      <td>138</td>\n",
       "      <td>8</td>\n",
       "      <td>date</td>\n",
       "      <td>Didn't actually wear it. It fit perfectly. The...</td>\n",
       "      <td>athletic</td>\n",
       "      <td>Traditional with a touch a sass</td>\n",
       "      <td>dress</td>\n",
       "      <td>68</td>\n",
       "      <td>8</td>\n",
       "      <td>45</td>\n",
       "      <td>2016-04-30</td>\n",
       "      <td>32</td>\n",
       "      <td>b</td>\n",
       "    </tr>\n",
       "  </tbody>\n",
       "</table>\n",
       "</div>"
      ],
      "text/plain": [
       "   fit user_id bust size  item_id  weight  rating     rented for  \\\n",
       "0  fit  420272       34d  2260466     137      10       vacation   \n",
       "1  fit  273551       34b   153475     132      10          other   \n",
       "2  fit  909926       34c   126335     135       8  formal affair   \n",
       "3  fit  151944       34b   616682     145      10        wedding   \n",
       "4  fit  734848       32b   364092     138       8           date   \n",
       "\n",
       "                                         review_text          body type  \\\n",
       "0  An adorable romper! Belt and zipper were a lit...          hourglass   \n",
       "1  I rented this dress for a photo shoot. The the...  straight & narrow   \n",
       "2  I rented this for my company's black tie award...               pear   \n",
       "3  I have always been petite in my upper body and...           athletic   \n",
       "4  Didn't actually wear it. It fit perfectly. The...           athletic   \n",
       "\n",
       "                                     review_summary category  height  size  \\\n",
       "0                              So many compliments!   romper      68    14   \n",
       "1                           I felt so glamourous!!!     gown      66    12   \n",
       "2  Dress arrived on time and in perfect condition.     dress      65     8   \n",
       "3                   Was in love with this dress !!!     gown      69    12   \n",
       "4                   Traditional with a touch a sass    dress      68     8   \n",
       "\n",
       "   age review_date  bust cup  \n",
       "0   28  2016-04-20    34   d  \n",
       "1   36  2013-06-18    34   b  \n",
       "2   34  2014-02-12    34   c  \n",
       "3   27  2016-09-26    34   b  \n",
       "4   45  2016-04-30    32   b  "
      ]
     },
     "execution_count": 19,
     "metadata": {},
     "output_type": "execute_result"
    }
   ],
   "source": [
    "fashion_df.head()"
   ]
  },
  {
   "cell_type": "code",
   "execution_count": 33,
   "metadata": {},
   "outputs": [
    {
     "data": {
      "text/plain": [
       "<AxesSubplot:xlabel='rating', ylabel='bust'>"
      ]
     },
     "execution_count": 33,
     "metadata": {},
     "output_type": "execute_result"
    },
    {
     "data": {
      "image/png": "[encoded data removed]",
      "text/plain": [
       "<Figure size 1152x288 with 4 Axes>"
      ]
     },
     "metadata": {
      "needs_background": "light"
     },
     "output_type": "display_data"
    }
   ],
   "source": [
    "fig, axes = plt.subplots(ncols = 4, figsize = (16, 4))\n",
    "sns.regplot(data = fashion_df, x = 'weight', y = 'bust', ax = axes[0])\n",
    "sns.regplot(data = fashion_df, x = 'height', y = 'bust', ax = axes[1])\n",
    "sns.regplot(data = fashion_df, x = 'size', y = 'bust', ax = axes[2])\n",
    "sns.regplot(data = fashion_df, x = 'rating', y = 'bust', ax = axes[3])"
   ]
  },
  {
   "cell_type": "markdown",
   "metadata": {},
   "source": [
    "### Basic Linear Model"
   ]
  },
  {
   "cell_type": "code",
   "execution_count": 159,
   "metadata": {},
   "outputs": [],
   "source": [
    "from sklearn.linear_model import LinearRegression\n",
    "from sklearn.model_selection import train_test_split\n",
    "from sklearn.preprocessing import OneHotEncoder, FunctionTransformer\n",
    "from sklearn.compose import ColumnTransformer\n",
    "from sklearn.pipeline import Pipeline\n",
    "from sklearn.metrics import mean_squared_error"
   ]
  },
  {
   "cell_type": "code",
   "execution_count": 160,
   "metadata": {},
   "outputs": [],
   "source": [
    "mod = LinearRegression()"
   ]
  },
  {
   "cell_type": "code",
   "execution_count": 161,
   "metadata": {},
   "outputs": [],
   "source": [
    "train, test = train_test_split(fashion_df, test_size = 0.2)"
   ]
  },
  {
   "cell_type": "code",
   "execution_count": 162,
   "metadata": {},
   "outputs": [],
   "source": [
    "train_X, train_Y = train[['weight', 'size', 'height', 'age', 'rating']], train['bust']\n",
    "test_X, test_Y = test[['weight', 'size', 'height', 'age', 'rating']], test['bust']"
   ]
  },
  {
   "cell_type": "code",
   "execution_count": 163,
   "metadata": {},
   "outputs": [
    {
     "data": {
      "text/plain": [
       "LinearRegression()"
      ]
     },
     "execution_count": 163,
     "metadata": {},
     "output_type": "execute_result"
    }
   ],
   "source": [
    "mod.fit(train_X, train_Y)"
   ]
  },
  {
   "cell_type": "code",
   "execution_count": 164,
   "metadata": {},
   "outputs": [],
   "source": [
    "preds = mod.predict(test_X)\n",
    "preds = [round(pred) for pred in preds]"
   ]
  },
  {
   "cell_type": "code",
   "execution_count": 165,
   "metadata": {},
   "outputs": [
    {
     "data": {
      "text/plain": [
       "0.30580319021757696"
      ]
     },
     "execution_count": 165,
     "metadata": {},
     "output_type": "execute_result"
    }
   ],
   "source": [
    "sum([1 if p == a else 0 for p, a in zip(preds, test_Y)])/len(preds)"
   ]
  },
  {
   "cell_type": "code",
   "execution_count": 166,
   "metadata": {},
   "outputs": [
    {
     "data": {
      "text/plain": [
       "1.640400314239847"
      ]
     },
     "execution_count": 166,
     "metadata": {},
     "output_type": "execute_result"
    }
   ],
   "source": [
    "mean_squared_error(preds, test_Y)"
   ]
  },
  {
   "cell_type": "markdown",
   "metadata": {},
   "source": [
    "### Add some more features"
   ]
  },
  {
   "cell_type": "code",
   "execution_count": 167,
   "metadata": {},
   "outputs": [],
   "source": [
    "mod = LinearRegression()"
   ]
  },
  {
   "cell_type": "code",
   "execution_count": 168,
   "metadata": {},
   "outputs": [],
   "source": [
    "as_is = ['weight', 'size', 'height', 'age', 'rating']\n",
    "ohe = ['rented for', 'body type', 'category']"
   ]
  },
  {
   "cell_type": "code",
   "execution_count": 169,
   "metadata": {},
   "outputs": [],
   "source": [
    "ct = ColumnTransformer(\n",
    "    [(\"as_is\", FunctionTransformer(lambda x: x), as_is),\n",
    "    (\"ohe\", OneHotEncoder(handle_unknown = 'ignore'), ohe)]\n",
    ")"
   ]
  },
  {
   "cell_type": "code",
   "execution_count": 170,
   "metadata": {},
   "outputs": [],
   "source": [
    "pl = Pipeline(steps = [('transform', ct), ('linear_regression', mod)])"
   ]
  },
  {
   "cell_type": "code",
   "execution_count": 171,
   "metadata": {},
   "outputs": [],
   "source": [
    "train_X, train_Y = train[['weight', 'size', 'height', 'age', 'rating', 'rented for', 'body type', 'category']], train['bust']\n",
    "test_X, test_Y = test[['weight', 'size', 'height', 'age', 'rating', 'rented for', 'body type', 'category']], test['bust']"
   ]
  },
  {
   "cell_type": "code",
   "execution_count": 172,
   "metadata": {},
   "outputs": [
    {
     "data": {
      "text/plain": [
       "Pipeline(steps=[('transform',\n",
       "                 ColumnTransformer(transformers=[('as_is',\n",
       "                                                  FunctionTransformer(func=<function <lambda> at 0x0000022F083705E0>),\n",
       "                                                  ['weight', 'size', 'height',\n",
       "                                                   'age', 'rating']),\n",
       "                                                 ('ohe',\n",
       "                                                  OneHotEncoder(handle_unknown='ignore'),\n",
       "                                                  ['rented for', 'body type',\n",
       "                                                   'category'])])),\n",
       "                ('linear_regression', LinearRegression())])"
      ]
     },
     "execution_count": 172,
     "metadata": {},
     "output_type": "execute_result"
    }
   ],
   "source": [
    "pl.fit(train_X, train_Y)"
   ]
  },
  {
   "cell_type": "code",
   "execution_count": 173,
   "metadata": {},
   "outputs": [],
   "source": [
    "preds = pl.predict(test_X)\n",
    "preds = [round(pred) for pred in preds] #no such thing as half size?"
   ]
  },
  {
   "cell_type": "code",
   "execution_count": 174,
   "metadata": {},
   "outputs": [
    {
     "data": {
      "text/plain": [
       "0.30822830208013113"
      ]
     },
     "execution_count": 174,
     "metadata": {},
     "output_type": "execute_result"
    }
   ],
   "source": [
    "sum([1 if p == a else 0 for p, a in zip(preds, test_Y)])/len(preds)"
   ]
  },
  {
   "cell_type": "code",
   "execution_count": 175,
   "metadata": {},
   "outputs": [
    {
     "data": {
      "text/plain": [
       "1.6208286368138811"
      ]
     },
     "execution_count": 175,
     "metadata": {},
     "output_type": "execute_result"
    }
   ],
   "source": [
    "mean_squared_error(preds, test_Y)"
   ]
  }
 ],
 "metadata": {
  "kernelspec": {
   "display_name": "Python 3 (ipykernel)",
   "language": "python",
   "name": "python3"
  },
  "language_info": {
   "codemirror_mode": {
    "name": "ipython",
    "version": 3
   },
   "file_extension": ".py",
   "mimetype": "text/x-python",
   "name": "python",
   "nbconvert_exporter": "python",
   "pygments_lexer": "ipython3",
   "version": "3.9.7"
  }
 },
 "nbformat": 4,
 "nbformat_minor": 4
}
